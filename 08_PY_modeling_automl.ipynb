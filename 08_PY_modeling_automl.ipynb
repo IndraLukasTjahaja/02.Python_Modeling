{
 "metadata": {
  "language_info": {
   "codemirror_mode": {
    "name": "ipython",
    "version": 3
   },
   "file_extension": ".py",
   "mimetype": "text/x-python",
   "name": "python",
   "nbconvert_exporter": "python",
   "pygments_lexer": "ipython3",
   "version": "3.8.3-final"
  },
  "orig_nbformat": 2,
  "kernelspec": {
   "name": "python3",
   "display_name": "Python 3"
  }
 },
 "nbformat": 4,
 "nbformat_minor": 2,
 "cells": [
  {
   "source": [
    "# Auto ML in Python with German Credit data\n",
    "\n",
    "Automated Machine Learning, often abbreviated as AutoML, is an emerging field in which the process of building machine learning models to model data is automated. AutoML has the capability to make modelling easier and more accessible for everyone.\n",
    "If you’re interested in checking out AutoML, these four Python libraries are the way to go. \n",
    "\n",
    "Based on data of German Credit that already clean up and prepared\n",
    "\n",
    "### Resources and References\n",
    "https://towardsdatascience.com/4-python-automl-libraries-every-data-scientist-should-know-680ff5d6ad08"
   ],
   "cell_type": "markdown",
   "metadata": {}
  },
  {
   "cell_type": "code",
   "execution_count": 8,
   "metadata": {},
   "outputs": [],
   "source": [
    "#Load related libraries to do analysis\n",
    "import pandas as pd #To work with dataset\n",
    "import numpy as np #Math library\n",
    "import seaborn as sns #Graph library that use matplot in background\n",
    "import matplotlib.pyplot as plt #to plot some parameters in seaborn\n",
    "%matplotlib inline\n",
    "from sklearn.model_selection import train_test_split\n",
    "\n",
    "## Machine Learning Part\n",
    "\n",
    "# machine learning library\n",
    "from sklearn.linear_model import LogisticRegression\n",
    "from sklearn.svm import SVC, LinearSVC\n",
    "import statsmodels.api as sm\n",
    "\n",
    "#to check performance of model\n",
    "from sklearn.metrics import accuracy_score\n",
    "from sklearn.metrics import confusion_matrix\n",
    "from sklearn.metrics import classification_report\n",
    "\n",
    "#plot\n",
    "import matplotlib.pyplot as plt\n",
    "\n",
    "# libraries for automl\n",
    "#autosklearn only works in linux\n",
    "#import autosklearn as ask"
   ]
  },
  {
   "cell_type": "code",
   "execution_count": 9,
   "metadata": {},
   "outputs": [],
   "source": [
    "# Impor data dari excel xls german credit versi encoded (sudah dalam angka semua) ke Python\n",
    "final_data = pd.read_excel('input/german_credit_encoded.xlsx')"
   ]
  },
  {
   "cell_type": "code",
   "execution_count": 10,
   "metadata": {},
   "outputs": [],
   "source": [
    "x = final_data.drop(['default'],axis=1)\n",
    "y = final_data['default']\n",
    "\n",
    "x_train, x_test, y_train, y_test = train_test_split(x,y,test_size=0.3, random_state=101)"
   ]
  },
  {
   "cell_type": "code",
   "execution_count": 5,
   "metadata": {},
   "outputs": [
    {
     "output_type": "error",
     "ename": "ModuleNotFoundError",
     "evalue": "No module named 'autosklearn'",
     "traceback": [
      "\u001b[0;31m---------------------------------------------------------------------------\u001b[0m",
      "\u001b[0;31mModuleNotFoundError\u001b[0m                       Traceback (most recent call last)",
      "\u001b[0;32m<ipython-input-5-ac53efc6466c>\u001b[0m in \u001b[0;36m<module>\u001b[0;34m\u001b[0m\n\u001b[1;32m      1\u001b[0m \u001b[0;31m#autosklearn only works in linux\u001b[0m\u001b[0;34m\u001b[0m\u001b[0;34m\u001b[0m\u001b[0;34m\u001b[0m\u001b[0m\n\u001b[0;32m----> 2\u001b[0;31m \u001b[0;32mimport\u001b[0m \u001b[0mautosklearn\u001b[0m \u001b[0;32mas\u001b[0m \u001b[0mask\u001b[0m\u001b[0;34m\u001b[0m\u001b[0;34m\u001b[0m\u001b[0m\n\u001b[0m\u001b[1;32m      3\u001b[0m \u001b[0;31m#ask.regression.AutoSklearnRegressor() for regression tasks\u001b[0m\u001b[0;34m\u001b[0m\u001b[0;34m\u001b[0m\u001b[0;34m\u001b[0m\u001b[0m\n\u001b[1;32m      4\u001b[0m model = ask.classification.AutoSklearnClassifier(ensemble_size=10, #size of the end ensemble (minimum is 1)\n\u001b[1;32m      5\u001b[0m                                                  \u001b[0mtime_left_for_this_task\u001b[0m\u001b[0;34m=\u001b[0m\u001b[0;36m120\u001b[0m\u001b[0;34m,\u001b[0m \u001b[0;31m#the number of seconds the process runs for\u001b[0m\u001b[0;34m\u001b[0m\u001b[0;34m\u001b[0m\u001b[0m\n",
      "\u001b[0;31mModuleNotFoundError\u001b[0m: No module named 'autosklearn'"
     ]
    }
   ],
   "source": [
    "#autosklearn only works in linux\n",
    "import autosklearn as ask\n",
    "#ask.regression.AutoSklearnRegressor() for regression tasks\n",
    "model = ask.classification.AutoSklearnClassifier(ensemble_size=10, #size of the end ensemble (minimum is 1)\n",
    "                                                 time_left_for_this_task=120, #the number of seconds the process runs for\n",
    "                                                 per_run_time_limit=30) #maximum seconds allocated per model\n",
    "model.fit(x_train, y_train) #begin fitting the search model\n",
    "print(model.sprint_statistics()) #print statistics for the search\n",
    "y_predictions = model.predict(x_test) #get predictions from the model"
   ]
  },
  {
   "cell_type": "code",
   "execution_count": 11,
   "metadata": {},
   "outputs": [
    {
     "output_type": "stream",
     "name": "stdout",
     "text": [
      "0.7333333333333333\n"
     ]
    }
   ],
   "source": [
    "import tpot\n",
    "pipeline_optimizer = tpot.TPOTClassifier(generations=5, #number of iterations to run the training\n",
    "                                         population_size=20, #number of individuals to train\n",
    "                                         cv=5) #number of folds in StratifiedKFold\n",
    "pipeline_optimizer.fit(x_train, y_train) #fit the pipeline optimizer - can take a long time\n",
    "print(pipeline_optimizer.score(x_test, y_test)) #print scoring for the pipeline\n",
    "pipeline_optimizer.export('output/tpot_exported_pipeline.py') #export the pipeline - in Python code!"
   ]
  },
  {
   "cell_type": "code",
   "execution_count": null,
   "metadata": {},
   "outputs": [],
   "source": []
  }
 ]
}