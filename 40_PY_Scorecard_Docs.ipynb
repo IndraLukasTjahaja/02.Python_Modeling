{
 "metadata": {
  "language_info": {
   "codemirror_mode": {
    "name": "ipython",
    "version": 3
   },
   "file_extension": ".py",
   "mimetype": "text/x-python",
   "name": "python",
   "nbconvert_exporter": "python",
   "pygments_lexer": "ipython3",
   "version": 3
  },
  "orig_nbformat": 2
 },
 "nbformat": 4,
 "nbformat_minor": 2,
 "cells": [
  {
   "source": [
    "# Application Scorecard: Model Development and Documentation Template\n",
    "This is an example of documentation explaining the model development. Often required as part of review"
   ],
   "cell_type": "markdown",
   "metadata": {}
  },
  {
   "source": [
    "## [Name of Bank/Multifinance/Fintect] [Product of Secured/Unsecured] [Application or Behaviour] Scorecard\n",
    "Scorecard version 0.1\n",
    "Document Version Control: Scorecard_Draft_Indonesia_Unsecured_A_Score_2020_v0.1\n",
    "Date | Version \n",
    "---- | -------\n",
    "Dec 15, 2020 | 0.1\n"
   ],
   "cell_type": "markdown",
   "metadata": {}
  },
  {
   "cell_type": "code",
   "execution_count": null,
   "metadata": {},
   "outputs": [],
   "source": []
  }
 ]
}