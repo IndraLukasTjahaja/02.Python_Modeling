{
 "metadata": {
  "language_info": {
   "codemirror_mode": {
    "name": "ipython",
    "version": 3
   },
   "file_extension": ".py",
   "mimetype": "text/x-python",
   "name": "python",
   "nbconvert_exporter": "python",
   "pygments_lexer": "ipython3",
   "version": "3.8.5-final"
  },
  "orig_nbformat": 2,
  "kernelspec": {
   "name": "python_defaultSpec_1599399356583",
   "display_name": "Python 3.8.5 64-bit"
  }
 },
 "nbformat": 4,
 "nbformat_minor": 2,
 "cells": [
  {
   "cell_type": "code",
   "execution_count": null,
   "metadata": {},
   "outputs": [],
   "source": [
    "# Assume df_acquisition is the original acquisition file\n",
    "\n",
    "# Assume df_performance is the original performance fiel\n",
    "\n",
    "# This coding will get a sample of 10,000 only customer taken by random"
   ]
  },
  {
   "cell_type": "code",
   "execution_count": 9,
   "metadata": {},
   "outputs": [],
   "source": [
    "#Load related libraries to do analysis\n",
    "import pandas as pd #To work with dataset\n",
    "import numpy as np #Math library\n",
    "\n",
    "df_acquisition = pd.read_table('input/Acquisition_2000Q1.txt', sep = '|', header = None\n",
    "                        ,names = [\"LOAN_ID\", \"ORIG_CHN\", \"Seller.Name\", \"ORIG_RT\", \"ORIG_AMT\", \"ORIG_TRM\", \"ORIG_DTE\",\"FRST_DTE\", \"OLTV\",                                       \"OCLTV\", \"NUM_BO\", \"DTI\", \"CSCORE_B\", \"FTHB_FLG\", \"PURPOSE\", \"PROP_TYP\",\"NUM_UNIT\", \"OCC_STAT\", \"STATE\",                                      \"ZIP_3\", \"MI_PCT\", \"Product.Type\", \"CSCORE_C\", \"MI_TYPE\", \"RELOCATION_FLG\"])\n",
    "df_performance = pd.read_table('input/Performance_2000Q1.txt', sep = '|', header = None\n",
    "                        ,names = [\"LOAN_ID\", \"Monthly.Rpt.Prd\", \"Servicer.Name\", \"LAST_RT\", \"LAST_UPB\", \"Loan.Age\", \"Months.To.Legal.Mat\"\n",
    "                                  ,\"Adj.Month.To.Mat\", \"Maturity.Date\", \"MSA\", \"Delq.Status\", \"MOD_FLAG\", \"Zero.Bal.Code\",\"ZB_DTE\", \"LPI_DTE\"                                   ,\"FCC_DTE\",\"DISP_DT\", \"FCC_COST\", \"PP_COST\", \"AR_COST\", \"IE_COST\", \"TAX_COST\", \"NS_PROCS\",\"CE_PROCS\"                                          ,\"RMW_PROCS\", \"O_PROCS\", \"NON_INT_UPB\", \"PRIN_FORG_UPB_FHFA\", \"REPCH_FLAG\", \"PRIN_FORG_UPB_OTH\"\n",
    "                                  ,\"TRANSFER_FLAG\"])"
   ]
  },
  {
   "cell_type": "code",
   "execution_count": 23,
   "metadata": {
    "tags": []
   },
   "outputs": [
    {
     "output_type": "stream",
     "name": "stdout",
     "text": "<class 'pandas.core.frame.DataFrame'>\nInt64Index: 1500 entries, 21600 to 121174\nData columns (total 25 columns):\n #   Column          Non-Null Count  Dtype  \n---  ------          --------------  -----  \n 0   LOAN_ID         1500 non-null   int64  \n 1   ORIG_CHN        1500 non-null   object \n 2   Seller.Name     1500 non-null   object \n 3   ORIG_RT         1500 non-null   float64\n 4   ORIG_AMT        1500 non-null   int64  \n 5   ORIG_TRM        1500 non-null   int64  \n 6   ORIG_DTE        1500 non-null   object \n 7   FRST_DTE        1500 non-null   object \n 8   OLTV            1500 non-null   float64\n 9   OCLTV           7 non-null      float64\n 10  NUM_BO          1500 non-null   float64\n 11  DTI             1437 non-null   float64\n 12  CSCORE_B        1460 non-null   float64\n 13  FTHB_FLG        1500 non-null   object \n 14  PURPOSE         1500 non-null   object \n 15  PROP_TYP        1500 non-null   object \n 16  NUM_UNIT        1500 non-null   int64  \n 17  OCC_STAT        1500 non-null   object \n 18  STATE           1500 non-null   object \n 19  ZIP_3           1500 non-null   int64  \n 20  MI_PCT          466 non-null    float64\n 21  Product.Type    1500 non-null   object \n 22  CSCORE_C        757 non-null    float64\n 23  MI_TYPE         466 non-null    float64\n 24  RELOCATION_FLG  1500 non-null   object \ndtypes: float64(9), int64(5), object(11)\nmemory usage: 304.7+ KB\n"
    }
   ],
   "source": [
    "# Randomly choose 10,000 loan_id\n",
    "df_acquisition_sample = df_acquisition.sample(n = 1500) \n",
    "df_acquisition_sample.info()"
   ]
  },
  {
   "cell_type": "code",
   "execution_count": 24,
   "metadata": {},
   "outputs": [],
   "source": [
    "# Create final performance table\n",
    "df_performance_sample = pd.merge(df_acquisition_sample, df_performance, how='inner', left_on='LOAN_ID', right_on='LOAN_ID')"
   ]
  },
  {
   "cell_type": "code",
   "execution_count": 26,
   "metadata": {
    "tags": []
   },
   "outputs": [
    {
     "output_type": "stream",
     "name": "stdout",
     "text": "<class 'pandas.core.frame.DataFrame'>\nInt64Index: 56932 entries, 0 to 56931\nData columns (total 55 columns):\n #   Column               Non-Null Count  Dtype  \n---  ------               --------------  -----  \n 0   LOAN_ID              56932 non-null  int64  \n 1   ORIG_CHN             56932 non-null  object \n 2   Seller.Name          56932 non-null  object \n 3   ORIG_RT              56932 non-null  float64\n 4   ORIG_AMT             56932 non-null  int64  \n 5   ORIG_TRM             56932 non-null  int64  \n 6   ORIG_DTE             56932 non-null  object \n 7   FRST_DTE             56932 non-null  object \n 8   OLTV                 56932 non-null  float64\n 9   OCLTV                221 non-null    float64\n 10  NUM_BO               56932 non-null  float64\n 11  DTI                  54383 non-null  float64\n 12  CSCORE_B             55481 non-null  float64\n 13  FTHB_FLG             56932 non-null  object \n 14  PURPOSE              56932 non-null  object \n 15  PROP_TYP             56932 non-null  object \n 16  NUM_UNIT             56932 non-null  int64  \n 17  OCC_STAT             56932 non-null  object \n 18  STATE                56932 non-null  object \n 19  ZIP_3                56932 non-null  int64  \n 20  MI_PCT               16580 non-null  float64\n 21  Product.Type         56932 non-null  object \n 22  CSCORE_C             26467 non-null  float64\n 23  MI_TYPE              16580 non-null  float64\n 24  RELOCATION_FLG       56932 non-null  object \n 25  Monthly.Rpt.Prd      56932 non-null  object \n 26  Servicer.Name        1256 non-null   object \n 27  LAST_RT              56932 non-null  float64\n 28  LAST_UPB             48022 non-null  float64\n 29  Loan.Age             56932 non-null  int64  \n 30  Months.To.Legal.Mat  56875 non-null  float64\n 31  Adj.Month.To.Mat     56445 non-null  float64\n 32  Maturity.Date        56875 non-null  object \n 33  MSA                  56932 non-null  int64  \n 34  Delq.Status          56919 non-null  object \n 35  MOD_FLAG             56932 non-null  object \n 36  Zero.Bal.Code        1489 non-null   float64\n 37  ZB_DTE               1489 non-null   object \n 38  LPI_DTE              13 non-null     object \n 39  FCC_DTE              12 non-null     object \n 40  DISP_DT              12 non-null     object \n 41  FCC_COST             10 non-null     float64\n 42  PP_COST              9 non-null      float64\n 43  AR_COST              6 non-null      float64\n 44  IE_COST              9 non-null      float64\n 45  TAX_COST             8 non-null      float64\n 46  NS_PROCS             11 non-null     float64\n 47  CE_PROCS             6 non-null      float64\n 48  RMW_PROCS            1 non-null      float64\n 49  O_PROCS              6 non-null      float64\n 50  NON_INT_UPB          329 non-null    float64\n 51  PRIN_FORG_UPB_FHFA   0 non-null      float64\n 52  REPCH_FLAG           1489 non-null   object \n 53  PRIN_FORG_UPB_OTH    0 non-null      float64\n 54  TRANSFER_FLAG        5642 non-null   object \ndtypes: float64(26), int64(7), object(22)\nmemory usage: 26.8+ MB\n<class 'pandas.core.frame.DataFrame'>\nInt64Index: 1500 entries, 21600 to 121174\nData columns (total 25 columns):\n #   Column          Non-Null Count  Dtype  \n---  ------          --------------  -----  \n 0   LOAN_ID         1500 non-null   int64  \n 1   ORIG_CHN        1500 non-null   object \n 2   Seller.Name     1500 non-null   object \n 3   ORIG_RT         1500 non-null   float64\n 4   ORIG_AMT        1500 non-null   int64  \n 5   ORIG_TRM        1500 non-null   int64  \n 6   ORIG_DTE        1500 non-null   object \n 7   FRST_DTE        1500 non-null   object \n 8   OLTV            1500 non-null   float64\n 9   OCLTV           7 non-null      float64\n 10  NUM_BO          1500 non-null   float64\n 11  DTI             1437 non-null   float64\n 12  CSCORE_B        1460 non-null   float64\n 13  FTHB_FLG        1500 non-null   object \n 14  PURPOSE         1500 non-null   object \n 15  PROP_TYP        1500 non-null   object \n 16  NUM_UNIT        1500 non-null   int64  \n 17  OCC_STAT        1500 non-null   object \n 18  STATE           1500 non-null   object \n 19  ZIP_3           1500 non-null   int64  \n 20  MI_PCT          466 non-null    float64\n 21  Product.Type    1500 non-null   object \n 22  CSCORE_C        757 non-null    float64\n 23  MI_TYPE         466 non-null    float64\n 24  RELOCATION_FLG  1500 non-null   object \ndtypes: float64(9), int64(5), object(11)\nmemory usage: 304.7+ KB\n"
    }
   ],
   "source": [
    "df_performance_sample.info()\n",
    "df_performance_sample.to_csv('output/fm2000Q1_performance_sample.txt',sep='|', index=False)\n",
    "df_acquisition_sample.info()\n",
    "df_acquisition_sample.to_csv('output/fm2000Q1_acquisition_sample.txt',sep='|', index=False)"
   ]
  },
  {
   "cell_type": "code",
   "execution_count": null,
   "metadata": {},
   "outputs": [],
   "source": []
  }
 ]
}