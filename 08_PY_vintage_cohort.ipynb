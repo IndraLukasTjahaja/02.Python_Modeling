{
 "metadata": {
  "language_info": {
   "codemirror_mode": {
    "name": "ipython",
    "version": 3
   },
   "file_extension": ".py",
   "mimetype": "text/x-python",
   "name": "python",
   "nbconvert_exporter": "python",
   "pygments_lexer": "ipython3",
   "version": 3
  },
  "orig_nbformat": 2
 },
 "nbformat": 4,
 "nbformat_minor": 2,
 "cells": [
  {
   "cell_type": "code",
   "execution_count": null,
   "metadata": {},
   "outputs": [],
   "source": [
    "#Load related libraries to do analysis\n",
    "import pandas as pd #To work with dataset\n",
    "import numpy as np #Math library"
   ]
  },
  {
   "cell_type": "code",
   "execution_count": null,
   "metadata": {},
   "outputs": [],
   "source": [
    "# Create MOB of all even if account is gone from newer business date\n",
    "# The MOB based on tenor\n",
    "df_create = pd.concat([pd.DataFrame({'CIF':row.CIF,\n",
    "                                     'MOB':range(0,(row.TENOR+1)),\n",
    "                                     'TENOR':row.TENOR\n",
    "                                    },\n",
    "                                    columns = ['CIF','MOB','TENOR'])\n",
    "                                    for i, row in df_new.iterrows()], ignore_index=True)\n",
    "# a must to remove duplicate due to how above code works\n",
    "df_create.drop_duplicates(subset = ['CIF','MOB'], keep = 'first', inplace=True)\n",
    "\n",
    "# recommended to have, if you know that you only want to track up to MOB 36\n",
    "df_create = df_create[df_create.MOB <= 60]\n"
   ]
  }
 ]
}