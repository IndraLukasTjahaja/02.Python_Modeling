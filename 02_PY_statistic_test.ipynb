{
 "metadata": {
  "language_info": {
   "codemirror_mode": {
    "name": "ipython",
    "version": 3
   },
   "file_extension": ".py",
   "mimetype": "text/x-python",
   "name": "python",
   "nbconvert_exporter": "python",
   "pygments_lexer": "ipython3",
   "version": "3.8.5-final"
  },
  "orig_nbformat": 2,
  "kernelspec": {
   "name": "python_defaultSpec_1599366576562",
   "display_name": "Python 3.8.5 64-bit"
  }
 },
 "nbformat": 4,
 "nbformat_minor": 2,
 "cells": [
  {
   "cell_type": "code",
   "execution_count": 2,
   "metadata": {
    "tags": []
   },
   "outputs": [
    {
     "output_type": "stream",
     "name": "stdout",
     "text": "/Users/indralukastjahaja/OneDrive/05 Github/01_Python/02.Python_Modeling\n"
    }
   ],
   "source": [
    "# Preparing folder where data located. If file located in local drive\n",
    "import os\n",
    "print(os.getcwd())"
   ]
  },
  {
   "cell_type": "code",
   "execution_count": 9,
   "metadata": {},
   "outputs": [],
   "source": [
    "#Load related libraries to do analysis\n",
    "import pandas as pd #To work with dataset\n",
    "import numpy as np #Math library\n",
    "import seaborn as sns #Graph library that use matplot in background\n",
    "import matplotlib.pyplot as plt #to plot some parameters in seaborn\n",
    "%matplotlib inline"
   ]
  },
  {
   "cell_type": "code",
   "execution_count": 10,
   "metadata": {},
   "outputs": [],
   "source": [
    "## III.2.1 Persiapan data dan impor ke Python\n",
    "\n",
    "# library panda untuk menggunakan data frame\n",
    "import pandas as pd\n",
    "\n",
    "# Pengaturan folder tempat data / Google Colab\n",
    "\n",
    "# Impor data dari excel xls ke Python\n",
    "df = pd.read_excel('input/german_credit_easy.xls')"
   ]
  },
  {
   "cell_type": "code",
   "execution_count": 12,
   "metadata": {
    "tags": []
   },
   "outputs": [
    {
     "output_type": "stream",
     "name": "stdout",
     "text": "default  duration_in_month  credit_amount  \\\ndefault                     1.000000           0.214927       0.154739   \nduration_in_month           0.214927           1.000000       0.624984   \ncredit_amount               0.154739           0.624984       1.000000   \ninstallment_as_income_perc  0.072404           0.074749      -0.271316   \npresent_res_since           0.002967           0.034067       0.028926   \nage                        -0.091127          -0.036136       0.032716   \ncredits_this_bank          -0.045732          -0.011284       0.020795   \npeople_under_maintenance   -0.003015          -0.023834       0.017142   \n\n                            installment_as_income_perc  present_res_since  \\\ndefault                                       0.072404           0.002967   \nduration_in_month                             0.074749           0.034067   \ncredit_amount                                -0.271316           0.028926   \ninstallment_as_income_perc                    1.000000           0.049302   \npresent_res_since                             0.049302           1.000000   \nage                                           0.058266           0.266419   \ncredits_this_bank                             0.021669           0.089625   \npeople_under_maintenance                     -0.071207           0.042643   \n\n                                 age  credits_this_bank  \\\ndefault                    -0.091127          -0.045732   \nduration_in_month          -0.036136          -0.011284   \ncredit_amount               0.032716           0.020795   \ninstallment_as_income_perc  0.058266           0.021669   \npresent_res_since           0.266419           0.089625   \nage                         1.000000           0.149254   \ncredits_this_bank           0.149254           1.000000   \npeople_under_maintenance    0.118201           0.109667   \n\n                            people_under_maintenance  \ndefault                                    -0.003015  \nduration_in_month                          -0.023834  \ncredit_amount                               0.017142  \ninstallment_as_income_perc                 -0.071207  \npresent_res_since                           0.042643  \nage                                         0.118201  \ncredits_this_bank                           0.109667  \npeople_under_maintenance                    1.000000  \n[[1.         0.07240394]\n [0.07240394 1.        ]]\n-0.09112740931949889\n"
    }
   ],
   "source": [
    "# correlation semua\n",
    "print(df.corr())\n",
    "# correlation untuk 2 faktor saja\n",
    "print(np.corrcoef(df['installment_as_income_perc'], df['default'])) \n",
    "# Menghitung korelasi antara variabel Age dengan default\n",
    "print(df['default'].corr(df['age']))"
   ]
  },
  {
   "cell_type": "code",
   "execution_count": 11,
   "metadata": {},
   "outputs": [
    {
     "output_type": "execute_result",
     "data": {
      "text/plain": "Ttest_indResult(statistic=2.890846677564194, pvalue=0.003925339398276282)"
     },
     "metadata": {},
     "execution_count": 11
    }
   ],
   "source": [
    "# Uji coba hipotesis apakah ada perbedaan nilai rata-rata variabel Age dengan default (gagal bayar dan tidak gagal bayar)\n",
    "from scipy import stats\n",
    "stats.ttest_ind( df[df.default == 0].age,\n",
    "                 df[df.default == 1].age, nan_policy='omit')"
   ]
  },
  {
   "cell_type": "code",
   "execution_count": null,
   "metadata": {},
   "outputs": [],
   "source": []
  }
 ]
}