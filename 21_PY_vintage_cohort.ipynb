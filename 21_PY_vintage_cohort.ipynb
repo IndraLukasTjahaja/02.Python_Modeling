{
 "metadata": {
  "language_info": {
   "codemirror_mode": {
    "name": "ipython",
    "version": 3
   },
   "file_extension": ".py",
   "mimetype": "text/x-python",
   "name": "python",
   "nbconvert_exporter": "python",
   "pygments_lexer": "ipython3",
   "version": "3.8.5-final"
  },
  "orig_nbformat": 2,
  "kernelspec": {
   "name": "python_defaultSpec_1599662673213",
   "display_name": "Python 3.8.5 64-bit"
  }
 },
 "nbformat": 4,
 "nbformat_minor": 2,
 "cells": [
  {
   "cell_type": "code",
   "execution_count": 1,
   "metadata": {},
   "outputs": [],
   "source": [
    "#Load related libraries to do analysis\n",
    "import pandas as pd #To work with dataset\n",
    "import numpy as np #Math library"
   ]
  },
  {
   "cell_type": "code",
   "execution_count": 2,
   "metadata": {},
   "outputs": [],
   "source": [
    "df_acquisition = pd.read_table('output/fm2000Q1_acquisition_sample.txt', sep = '|')\n",
    "df_performance = pd.read_table('output/fm2000Q1_performance_sample.txt', sep = '|')"
   ]
  },
  {
   "cell_type": "code",
   "execution_count": 3,
   "metadata": {},
   "outputs": [],
   "source": [
    "# Create MOB of all even if account is gone from newer business date\n",
    "# The use of this methodology depend whether the data gone or not\n",
    "# The MOB based on tenor\n",
    "\n",
    "# Choose select columns only to create\n",
    "df_performance2 = df_performance[['LOAN_ID','ORIG_TRM']]\n",
    "\n",
    "df_create = pd.concat([pd.DataFrame({'LOAN_ID':row.LOAN_ID,\n",
    "                                     'MOB':range(0,(row.ORIG_TRM+1)),\n",
    "                                     'ORIG_TRM':row.ORIG_TRM\n",
    "                                    },\n",
    "                                    columns = ['LOAN_ID','MOB','ORIG_TRM'])\n",
    "                                    for i, row in df_performance2.iterrows()], ignore_index=True)\n",
    "# a must to remove duplicate due to how above code works\n",
    "df_create.drop_duplicates(subset = ['LOAN_ID','MOB'], keep = 'first', inplace=True)\n",
    "\n",
    "# recommended to have, if you know that you only want to track up to MOB 90\n",
    "#df_create = df_create[df_create.MOB <= 60]\n"
   ]
  },
  {
   "cell_type": "code",
   "execution_count": 4,
   "metadata": {
    "tags": []
   },
   "outputs": [
    {
     "output_type": "stream",
     "name": "stdout",
     "text": "<class 'pandas.core.frame.DataFrame'>\nRangeIndex: 56932 entries, 0 to 56931\nData columns (total 3 columns):\n #   Column       Non-Null Count  Dtype \n---  ------       --------------  ----- \n 0   LOAN_ID      56932 non-null  int64 \n 1   Delq.Status  56919 non-null  object\n 2   Loan.Age     56932 non-null  int64 \ndtypes: int64(2), object(1)\nmemory usage: 1.3+ MB\nNone\n['0' 'X' '1' '2' '3' '4' '5' '6' '7' '8' '9' '10' '11' '12' '13' '14' nan\n '15' '16' '17' '18' '19' '20' '21' '22' '23' '24' '25' '26' '27' '28'\n '29' '30' '31' '32' '33' '34' '35' '36' '37' '38' '39' '40' '41']\n"
    }
   ],
   "source": [
    "df_performance2 = df_performance[['LOAN_ID','Delq.Status','Loan.Age']]\n",
    "print(df_performance2.info())\n",
    "print(df_performance2['Delq.Status'].unique())"
   ]
  },
  {
   "cell_type": "code",
   "execution_count": 5,
   "metadata": {
    "tags": []
   },
   "outputs": [],
   "source": [
    "# Create list of loan ID that ever DPD30+ (kolek 1) or DPD90+ (kolek 2) and the MOB when it happened\n",
    "df_performance2 = df_performance[['LOAN_ID','Delq.Status','Loan.Age']]\n",
    "df_performance2 = df_performance2[df_performance2['Delq.Status'] != 'X']\n",
    "df_performance2['Delq.Status'] = df_performance2['Delq.Status'].astype(float)\n",
    "\n",
    "# Ever DPD30+\n",
    "df_ever30 = df_performance2[df_performance2['Delq.Status'] >= 1]\n",
    "df_ever30_2  = df_ever30.groupby(['LOAN_ID'], as_index = False).agg(\n",
    "    {\n",
    "        'Loan.Age':'min'\n",
    "    }\n",
    ")\n",
    "df_ever30_2['EVER30'] = 1\n",
    "df_ever30_2.rename(columns={'Loan.Age':'DPD30_When'}, inplace = True)\n",
    "\n",
    "# Ever DPD30+\n",
    "df_ever90 = df_performance2[df_performance2['Delq.Status'] >= 2]\n",
    "df_ever90_2  = df_ever90.groupby(['LOAN_ID'], as_index = False).agg(\n",
    "    {\n",
    "        'Loan.Age':'min'\n",
    "    }\n",
    ")\n",
    "df_ever90_2['EVER90'] = 1\n",
    "df_ever90_2.rename(columns={'Loan.Age':'DPD90_When'}, inplace = True)"
   ]
  },
  {
   "cell_type": "code",
   "execution_count": 11,
   "metadata": {},
   "outputs": [],
   "source": [
    "# Create list of latest date and data\n",
    "df_performance2 = df_performance[['LOAN_ID','LAST_UPB','Loan.Age','Monthly.Rpt.Prd']]\n",
    "\n",
    "df_latest  = df_performance2.groupby(['LOAN_ID'], as_index = False).agg(\n",
    "    {\n",
    "        'Loan.Age':'max'\n",
    "    }\n",
    ")\n",
    "\n",
    "df_latest_2 = pd.merge(df_latest, df_performance2, left_on = ['LOAN_ID','Loan.Age'], right_on = ['LOAN_ID','Loan.Age'], how = 'left')\n",
    "df_latest_2.rename(columns={'Loan.Age':'Latest_Loan.Age','Monthly.Rpt.Prd':'Latest_Month.Rp'\n",
    "                    ,'LAST_UPB':'Latest_LAST_UPB'                    \n",
    "                    }, inplace = True)\n",
    "\n",
    "df_latest_2 = pd.merge(df_latest_2, df_ever30_2, left_on = ['LOAN_ID'], right_on = ['LOAN_ID'], how = 'left')\n",
    "df_latest_2 = pd.merge(df_latest_2, df_ever90_2, left_on = ['LOAN_ID'], right_on = ['LOAN_ID'], how = 'left')"
   ]
  },
  {
   "cell_type": "code",
   "execution_count": 17,
   "metadata": {},
   "outputs": [],
   "source": [
    "# Create vintage data with target definition: target Ever DPD90+\n",
    "df_create_2 = pd.merge(df_create, df_latest_2, left_on = ['LOAN_ID'], right_on = ['LOAN_ID'], how = 'left')\n",
    "\n",
    "df_performance2 = df_performance[['LOAN_ID','Loan.Age','LAST_UPB']]\n",
    "\n",
    "df_create_2 = pd.merge(df_create_2, df_performance2, left_on = ['LOAN_ID','MOB'], right_on = ['LOAN_ID','Loan.Age'], how = 'left')\n",
    "\n",
    "# Create EverDPD90 and EverDPD30 by Outstanding tagging\n",
    "\n",
    "# Create EverDPD90 OS by MOB position\n",
    "conditions =    [\n",
    "                ( (df_create_2['EVER90'] > 0) & (df_create_2['Loan.Age'] > df_create_2['DPD90_When']) & (df_create_2['LAST_UPB'] > 0) ),\n",
    "                ( (df_create_2['EVER90'] > 0) & (df_create_2['Loan.Age'] > df_create_2['DPD90_When']) )\n",
    "                ]\n",
    "choices =       [\n",
    "                df_create_2['LAST_UPB'],\n",
    "                df_create_2['Latest_LAST_UPB']\n",
    "                ]\n",
    "df_create_2['EVER90_OS'] = np.select(conditions,choices, default=0) \n",
    "\n",
    "# Create EverDPD30 OS by MOB position\n",
    "conditions =    [\n",
    "                ( (df_create_2['EVER30'] > 0) & (df_create_2['Loan.Age'] > df_create_2['DPD30_When']) & (df_create_2['LAST_UPB'] > 0) ),\n",
    "                ( (df_create_2['EVER30'] > 0) & (df_create_2['Loan.Age'] > df_create_2['DPD30_When']) )\n",
    "                ]\n",
    "choices =       [\n",
    "                df_create_2['LAST_UPB'],\n",
    "                df_create_2['Latest_LAST_UPB']\n",
    "                ]\n",
    "df_create_2['EVER30_OS'] = np.select(conditions,choices, default=0) "
   ]
  },
  {
   "cell_type": "code",
   "execution_count": 19,
   "metadata": {},
   "outputs": [],
   "source": [
    "# Create vintage data with acquisition information\n",
    "df_acquisition2 = df_acquisition[['LOAN_ID','ORIG_CHN','ORIG_AMT']]\n",
    "\n",
    "df_create_3 = pd.merge(df_create_2, df_acquisition2, left_on = ['LOAN_ID'], right_on = ['LOAN_ID'], how = 'left')\n"
   ]
  },
  {
   "cell_type": "code",
   "execution_count": 21,
   "metadata": {},
   "outputs": [],
   "source": [
    "# Create vintage report vintage performance by vintage\n",
    "vintage_channel_excel = 'output/vintage_channel_excel.xlsx'\n",
    "writer = pd.ExcelWriter(vintage_channel_excel, engine = 'xlsxwriter')\n",
    "\n",
    "output_ever90_os = pd.crosstab(df_create_3.ORIG_CHN, df_create_3.MOB, values=df_create_3.EVER90_OS, aggfunc='sum')\n",
    "output_plafond = pd.crosstab(df_create_3.ORIG_CHN, df_create_3.MOB, values=df_create_3.ORIG_AMT, aggfunc='sum')\n",
    "\n",
    "loss_plafond = output_ever90_os / output_plafond\n",
    "\n",
    "output_ever90_os.to_excel(writer, sheet_name = 'EVER90_OS_byChannel')\n",
    "output_plafond.to_excel(writer, sheet_name = 'LIMIT_byChannel')\n",
    "loss_plafond.to_excel(writer, sheet_name = 'Vintage_byChannel')\n",
    "\n",
    "writer.save()\n",
    "writer.close()"
   ]
  },
  {
   "cell_type": "code",
   "execution_count": null,
   "metadata": {},
   "outputs": [],
   "source": []
  }
 ]
}