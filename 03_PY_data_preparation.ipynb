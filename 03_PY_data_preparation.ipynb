{
 "metadata": {
  "language_info": {
   "codemirror_mode": {
    "name": "ipython",
    "version": 3
   },
   "file_extension": ".py",
   "mimetype": "text/x-python",
   "name": "python",
   "nbconvert_exporter": "python",
   "pygments_lexer": "ipython3",
   "version": "3.8.5-final"
  },
  "orig_nbformat": 2,
  "kernelspec": {
   "name": "python_defaultSpec_1599377697186",
   "display_name": "Python 3.8.5 64-bit"
  }
 },
 "nbformat": 4,
 "nbformat_minor": 2,
 "cells": [
  {
   "cell_type": "code",
   "execution_count": 10,
   "metadata": {},
   "outputs": [],
   "source": [
    "#Load related libraries to do analysis\n",
    "import pandas as pd #To work with dataset\n",
    "import numpy as np #Math library"
   ]
  },
  {
   "cell_type": "code",
   "execution_count": 2,
   "metadata": {},
   "outputs": [],
   "source": [
    "## III.2.1 Persiapan data dan impor ke Python\n",
    "\n",
    "# library panda untuk menggunakan data frame\n",
    "import pandas as pd\n",
    "\n",
    "# Pengaturan folder tempat data / Google Colab\n",
    "\n",
    "# Impor data dari excel xls ke Python\n",
    "df = pd.read_excel('input/german_credit_easy.xls')"
   ]
  },
  {
   "cell_type": "code",
   "execution_count": 18,
   "metadata": {},
   "outputs": [],
   "source": [
    "## III.3.1 Penanganan untuk data yang hilang (missing values)\n",
    "\n",
    "# Membuat kopi dari df dan menyimpan sebagai df_prepare\n",
    "df_prepare = df.copy()"
   ]
  },
  {
   "cell_type": "code",
   "execution_count": 19,
   "metadata": {},
   "outputs": [],
   "source": [
    "\n",
    "# Koding berikut menggantikan missing value dari semua variabel dengan\n",
    "# nilai yang paling sering muncul (modus)\n",
    "\n",
    "for column in df_prepare.columns:\n",
    "        df_prepare[column].fillna(df_prepare[column].mode()[0], inplace=True)"
   ]
  },
  {
   "cell_type": "code",
   "execution_count": 5,
   "metadata": {},
   "outputs": [],
   "source": [
    "## III.3.3 Pembuatan variabel yang baru (Feature Engineering) \n",
    "\n",
    "df_prepare['cicilan_per_bulan'] = df_prepare['credit_amount'] / df_prepare['duration_in_month']"
   ]
  },
  {
   "cell_type": "code",
   "execution_count": 21,
   "metadata": {
    "tags": []
   },
   "outputs": [
    {
     "output_type": "stream",
     "name": "stdout",
     "text": "<class 'pandas.core.frame.DataFrame'>\nRangeIndex: 1000 entries, 0 to 999\nData columns (total 23 columns):\n #   Column                      Non-Null Count  Dtype \n---  ------                      --------------  ----- \n 0   ID                          1000 non-null   object\n 1   default                     1000 non-null   int64 \n 2   account_check_status        1000 non-null   object\n 3   duration_in_month           1000 non-null   int64 \n 4   credit_history              1000 non-null   object\n 5   purpose                     1000 non-null   object\n 6   credit_amount               1000 non-null   int64 \n 7   savings                     1000 non-null   object\n 8   present_emp_since           1000 non-null   object\n 9   installment_as_income_perc  1000 non-null   int64 \n 10  personal_status_sex         1000 non-null   object\n 11  other_debtors               1000 non-null   object\n 12  present_res_since           1000 non-null   int64 \n 13  property                    1000 non-null   object\n 14  age                         1000 non-null   int64 \n 15  other_installment_plans     1000 non-null   object\n 16  housing                     1000 non-null   object\n 17  credits_this_bank           1000 non-null   int64 \n 18  job                         1000 non-null   object\n 19  people_under_maintenance    1000 non-null   int64 \n 20  telephone                   1000 non-null   object\n 21  foreign_worker              1000 non-null   object\n 22  category_duration           0 non-null      object\ndtypes: int64(8), object(15)\nmemory usage: 179.8+ KB\n"
    }
   ],
   "source": [
    "df_prepare.info()"
   ]
  },
  {
   "cell_type": "code",
   "execution_count": 26,
   "metadata": {},
   "outputs": [],
   "source": [
    "# Create new variable using def function\n",
    "# Note that this will be slow with big dataframe\n",
    "def category_duration(row):\n",
    "    if (row['duration_in_month'] < 0):\n",
    "        val = '0.Negative?'\n",
    "    elif (row['duration_in_month'] >= 24) & (row['duration_in_month'] <= 36):\n",
    "        val = '1.24<x<=36mth'\n",
    "    elif (row['duration_in_month'] < 24) | (row['duration_in_month'] > 36):\n",
    "        val = '2.<24or>36mth'\n",
    "    else:\n",
    "        val = '3.WrongNumber' #default value\n",
    "    return val\n",
    "df_prepare['category_duration'] = df_prepare.apply(category_duration, axis = 1)"
   ]
  },
  {
   "cell_type": "code",
   "execution_count": 25,
   "metadata": {},
   "outputs": [],
   "source": [
    "# Create new variable using numpy operation\n",
    "# This will be very fast even with big dataframe\n",
    "conditions =    [\n",
    "                (df_prepare['duration_in_month'] < 0),\n",
    "                ((df_prepare['duration_in_month'] >= 24) & (df_prepare['duration_in_month'] <= 36)),\n",
    "                ((df_prepare['duration_in_month'] < 24) | (df_prepare['duration_in_month'] > 36))\n",
    "                ]\n",
    "choices =       [\n",
    "                '0.Negative?',\n",
    "                '1.24<x<=36mth',\n",
    "                '2.<24or>36mth'\n",
    "                ]\n",
    "df_prepare['category_duration2'] = np.select(conditions,choices, default=np.nan) #nan is default value"
   ]
  },
  {
   "cell_type": "code",
   "execution_count": 6,
   "metadata": {},
   "outputs": [],
   "source": [
    "## III.3.4 Transformasi variabel kategori menjadi numerik (One-Hot Encoding) \n",
    "\n",
    "# Koding untuk one hot encoding untuk semua variabel kategori\n",
    "\n",
    "# Langkah pertama adalah membuang variabel ID karena ini adalah identifikasi nasabah\n",
    "df_prepare.drop(['ID'], axis = 1, inplace = True)\n",
    "\n",
    "# Memisahkan variabel kategori dengan variabel numerik\n",
    "dataset_dummies = df_prepare.select_dtypes(exclude = ['float64','int64','int'])\n",
    "dataset_int = df_prepare.select_dtypes(include=['float64','int64','int'])\n",
    "\n",
    "# Memisahkan target/dependent variabel dari dataset dengan variabel kategori\n",
    "target = df_prepare['default']\n",
    "dataset_int.drop(['default'], axis = 1, inplace = True)\n",
    "\n",
    "# Menggunakan function get_dummies dari panda untuk melakukan one hot encoding\n",
    "dataset_dummies_df = pd.get_dummies(dataset_dummies,drop_first = True)\n",
    "    \n",
    "# Menggabungkan dataset variabel kategori dari one hot encoding dengan variabel numerik\n",
    "dataset = pd.concat([dataset_dummies_df, dataset_int], axis = 1)\n",
    "feature_name = dataset.columns\n",
    "df_encoded = pd.concat([dataset, target], axis = 1)"
   ]
  },
  {
   "cell_type": "code",
   "execution_count": 27,
   "metadata": {},
   "outputs": [],
   "source": [
    "# Subset dataframe by criteria\n",
    "example1 = df_encoded[df_encoded.default == 0]"
   ]
  },
  {
   "cell_type": "code",
   "execution_count": 29,
   "metadata": {},
   "outputs": [],
   "source": [
    "# Only select some columns from dataframe\n",
    "example1 = df_prepare[['default','category_duration2']]"
   ]
  },
  {
   "cell_type": "code",
   "execution_count": 12,
   "metadata": {
    "tags": []
   },
   "outputs": [],
   "source": [
    "df_encoded.to_pickle('output/df_encoded.pkl')"
   ]
  }
 ]
}